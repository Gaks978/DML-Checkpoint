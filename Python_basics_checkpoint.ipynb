{
  "nbformat": 4,
  "nbformat_minor": 0,
  "metadata": {
    "colab": {
      "provenance": [],
      "authorship_tag": "ABX9TyM5Rhv/jvXZiaOb9AZKn3mw",
      "include_colab_link": true
    },
    "kernelspec": {
      "name": "python3",
      "display_name": "Python 3"
    },
    "language_info": {
      "name": "python"
    }
  },
  "cells": [
    {
      "cell_type": "markdown",
      "metadata": {
        "id": "view-in-github",
        "colab_type": "text"
      },
      "source": [
        "<a href=\"https://colab.research.google.com/github/Gaks978/DML-Checkpoint/blob/main/Python_basics_checkpoint.ipynb\" target=\"_parent\"><img src=\"https://colab.research.google.com/assets/colab-badge.svg\" alt=\"Open In Colab\"/></a>"
      ]
    },
    {
      "cell_type": "code",
      "execution_count": 2,
      "metadata": {
        "id": "_bRuZ2wg1kDg",
        "colab": {
          "base_uri": "https://localhost:8080/"
        },
        "outputId": "24abb9fd-8fe4-4076-979f-208c7dd4d700"
      },
      "outputs": [
        {
          "output_type": "stream",
          "name": "stdout",
          "text": [
            "Guess a random number between 1 and 100\n",
            "Enter your guess: 46\n",
            "Your guess is too high\n",
            "Enter your guess: 40\n",
            "Your guess is too high\n",
            "Enter your guess: 30\n",
            "Your guess is too low\n",
            "Enter your guess: 35\n",
            "Correct\n"
          ]
        }
      ],
      "source": [
        "import random\n",
        "print('Guess a random number between 1 and 100')\n",
        "right_guess = random.randint(1,100)\n",
        "guessed_number = False\n",
        "while not guessed_number:\n",
        "  guess = int(input('Enter your guess: '))\n",
        "  if guess > right_guess:\n",
        "    print('Your guess is too high')\n",
        "  elif guess < right_guess:\n",
        "    print('Your guess is too low')\n",
        "  else:\n",
        "    print('Correct')\n",
        "    guessed_number = True"
      ]
    }
  ]
}