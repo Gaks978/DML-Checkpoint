{
  "nbformat": 4,
  "nbformat_minor": 0,
  "metadata": {
    "colab": {
      "provenance": [],
      "authorship_tag": "ABX9TyNFo8aoFmF2z0PcI0/DC0Am",
      "include_colab_link": true
    },
    "kernelspec": {
      "name": "python3",
      "display_name": "Python 3"
    },
    "language_info": {
      "name": "python"
    }
  },
  "cells": [
    {
      "cell_type": "markdown",
      "metadata": {
        "id": "view-in-github",
        "colab_type": "text"
      },
      "source": [
        "<a href=\"https://colab.research.google.com/github/Gaks978/DML-Checkpoint/blob/main/Python_data_structures_checkpoint.ipynb\" target=\"_parent\"><img src=\"https://colab.research.google.com/assets/colab-badge.svg\" alt=\"Open In Colab\"/></a>"
      ]
    },
    {
      "cell_type": "code",
      "execution_count": null,
      "metadata": {
        "id": "mvwHFA6ATGtk",
        "colab": {
          "base_uri": "https://localhost:8080/"
        },
        "outputId": "cafa9ff7-0c41-4caf-eb5d-6e2668d7c0c7"
      },
      "outputs": [
        {
          "output_type": "stream",
          "name": "stdout",
          "text": [
            "Result: 36\n"
          ]
        }
      ],
      "source": [
        "sample_list = [2, 3, 6]\n",
        "result = sample_list[0] * sample_list[1] * sample_list[2]\n",
        "print(\"Result:\", result)"
      ]
    },
    {
      "cell_type": "code",
      "source": [
        "sample_list = [(2,5), (1,2), (4,4), (2,3), (2,1)]\n",
        "sample_list.sort(key=lambda x: x[1])\n",
        "print(sample_list)"
      ],
      "metadata": {
        "colab": {
          "base_uri": "https://localhost:8080/"
        },
        "id": "jZGkYhxiM0wS",
        "outputId": "4481395c-f0a5-4b2c-d468-6402ec34a951"
      },
      "execution_count": null,
      "outputs": [
        {
          "output_type": "stream",
          "name": "stdout",
          "text": [
            "[(2, 1), (1, 2), (2, 3), (4, 4), (2, 5)]\n"
          ]
        }
      ]
    },
    {
      "cell_type": "code",
      "source": [
        "d1 = {'a': 100, 'b': 200, 'c': 300}\n",
        "d2 = {'a': 300, 'b': 200, 'd': 300}\n",
        "added_values_for_common_keys = {key: d1.get(key, 0) + d2.get(key, 0) for key in set(d1) | set(d2)}\n",
        "print(\"Added_values_for_common_keys:\", added_values_for_common_keys)\n"
      ],
      "metadata": {
        "colab": {
          "base_uri": "https://localhost:8080/"
        },
        "id": "9AEx1-YPqyWR",
        "outputId": "3e5f6669-3950-4717-8522-bf9d7f1d9b2e"
      },
      "execution_count": null,
      "outputs": [
        {
          "output_type": "stream",
          "name": "stdout",
          "text": [
            "Added_values_for_common_keys: {'c': 300, 'b': 400, 'd': 300, 'a': 400}\n"
          ]
        }
      ]
    },
    {
      "cell_type": "code",
      "source": [
        "n = 8\n",
        "dictionary_of_squares_of_i = {i: i * i for i in range(1, n+1)}\n",
        "print(dictionary_of_squares_of_i)"
      ],
      "metadata": {
        "colab": {
          "base_uri": "https://localhost:8080/"
        },
        "id": "Xb5i1LBu6x0v",
        "outputId": "9bcbc9a8-57c4-41ef-bb56-b986e303b0c9"
      },
      "execution_count": null,
      "outputs": [
        {
          "output_type": "stream",
          "name": "stdout",
          "text": [
            "{1: 1, 2: 4, 3: 9, 4: 16, 5: 25, 6: 36, 7: 49, 8: 64}\n"
          ]
        }
      ]
    },
    {
      "cell_type": "code",
      "source": [
        "list = [('item1', '12.20'), ('item2', '15.10'), ('item3', '24.5')]\n",
        "list.sort(key=lambda x: float(x[1]), reverse=True)\n",
        "print(list)"
      ],
      "metadata": {
        "id": "FVq6l7z0-xI0",
        "colab": {
          "base_uri": "https://localhost:8080/"
        },
        "outputId": "a8cb07b7-b1ab-4bfa-dc12-915d8c2bec14"
      },
      "execution_count": 13,
      "outputs": [
        {
          "output_type": "stream",
          "name": "stdout",
          "text": [
            "[('item3', '24.5'), ('item2', '15.10'), ('item1', '12.20')]\n"
          ]
        }
      ]
    },
    {
      "cell_type": "code",
      "source": [
        "# Creating a set\n",
        "set = {0, 1, 2, 3, 4}\n",
        "# Iteration over set\n",
        "for element in set:\n",
        "  print(element)\n",
        "# Adding an element to a set\n",
        "set.add(9)\n",
        "print(\"Set after adding elements:\", set)\n",
        "# Removing an element from a set\n",
        "set.remove(2)\n",
        "print(\"Set after removing an element:\", set)"
      ],
      "metadata": {
        "colab": {
          "base_uri": "https://localhost:8080/"
        },
        "id": "FG9hfmVoOYnG",
        "outputId": "3294c68c-fbf7-450b-9b0f-49831d3ec346"
      },
      "execution_count": 23,
      "outputs": [
        {
          "output_type": "stream",
          "name": "stdout",
          "text": [
            "0\n",
            "1\n",
            "2\n",
            "3\n",
            "4\n",
            "Set after adding elements: {0, 1, 2, 3, 4, 9}\n",
            "Set after removing an element: {0, 1, 3, 4, 9}\n"
          ]
        }
      ]
    }
  ]
}