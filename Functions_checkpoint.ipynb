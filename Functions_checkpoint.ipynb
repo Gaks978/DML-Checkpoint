{
  "nbformat": 4,
  "nbformat_minor": 0,
  "metadata": {
    "colab": {
      "provenance": [],
      "authorship_tag": "ABX9TyMgngbZTrok0f6tSkU24dKe",
      "include_colab_link": true
    },
    "kernelspec": {
      "name": "python3",
      "display_name": "Python 3"
    },
    "language_info": {
      "name": "python"
    }
  },
  "cells": [
    {
      "cell_type": "markdown",
      "metadata": {
        "id": "view-in-github",
        "colab_type": "text"
      },
      "source": [
        "<a href=\"https://colab.research.google.com/github/Gaks978/DML-Checkpoint/blob/main/Functions_checkpoint.ipynb\" target=\"_parent\"><img src=\"https://colab.research.google.com/assets/colab-badge.svg\" alt=\"Open In Colab\"/></a>"
      ]
    },
    {
      "cell_type": "code",
      "source": [
        "def calculator(num1, num2):\n",
        "  operator = input(\"Enter operator (+, -, *, /): \")\n",
        "\n",
        "  if operator == \"+\":\n",
        "    return num1 + num2\n",
        "  elif operator == \"-\":\n",
        "    return num1 - num2\n",
        "  elif operator == \"*\":\n",
        "    return num1 * num2\n",
        "  elif operator == \"/\":\n",
        "    if num2 == 0:\n",
        "      return \"Cannot divide by zero\"\n",
        "    else:\n",
        "      return num1 / num2\n",
        "  else:\n",
        "    return \"Invalid operator\"\n",
        "\n",
        "while True:\n",
        "  num1 = float(input(\"Enter first number: \"))\n",
        "  num2 = float(input(\"Enter second number: \"))\n",
        "  result = calculator(num1, num2)\n",
        "  print(f\"The reult is: {result}\")"
      ],
      "metadata": {
        "id": "0Xc6A-fv7tng",
        "colab": {
          "base_uri": "https://localhost:8080/"
        },
        "collapsed": true,
        "outputId": "7ef3b312-29b7-4a71-a8ce-3c28a29ef631"
      },
      "execution_count": null,
      "outputs": [
        {
          "output_type": "stream",
          "name": "stdout",
          "text": [
            "Enter first number: 65\n",
            "Enter second number: 78\n",
            "Enter operator (+, -, *, /): /\n",
            "The reult is: 0.8333333333333334\n"
          ]
        }
      ]
    }
  ]
}